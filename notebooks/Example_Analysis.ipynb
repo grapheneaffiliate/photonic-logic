{
 "cells": [
  {
   "cell_type": "markdown",
   "metadata": {},
   "source": [
    "# Photonic Logic: Example Analysis\n",
    "\n",
    "This notebook demonstrates a minimal analysis workflow using a small sample dataset included in this repository at `data/sample/truth_table_sample.csv`.\n",
    "\n",
    "It loads the sample truth-table-like CSV and plots transmission vs control power. Replace the sample with your own dataset or generate a new CSV with the CLI:\n",
    "\n",
    "```\n",
    "plogic truth-table --ctrl 0 --ctrl 0.001 --ctrl 0.002 --out data/sample/truth_table_generated.csv\n",
    "```\n"
   ]
  },
  {
   "cell_type": "code",
   "execution_count": null,
   "metadata": {},
   "outputs": [],
   "source": [
    "import pandas as pd\n",
    "import matplotlib.pyplot as plt\n",
    "from pathlib import Path\n",
    "\n",
    "csv_path = Path(\"data/sample/truth_table_sample.csv\")\n",
    "df = pd.read_csv(csv_path)\n",
    "df.head()"
   ]
  },
  {
   "cell_type": "code",
   "execution_count": null,
   "metadata": {},
   "outputs": [],
   "source": [
    "plt.figure(figsize=(6,4))\n",
    "plt.plot(df[\"P_ctrl_W\"]*1e3, df[\"T_through\"], marker=\"o\", label=\"Through\")\n",
    "plt.plot(df[\"P_ctrl_W\"]*1e3, df[\"T_drop\"], marker=\"s\", label=\"Drop\")\n",
    "plt.xlabel(\"Control Power (mW)\")\n",
    "plt.ylabel(\"Transmission (a.u.)\")\n",
    "plt.title(\"Sample Transmission vs Control Power\")\n",
    "plt.grid(True, alpha=0.3)\n",
    "plt.legend()\n",
    "plt.tight_layout()\n",
    "plt.show()"
   ]
  },
  {
   "cell_type": "markdown",
   "metadata": {},
   "source": [
    "## Next Steps\n",
    "- Generate a new truth table with the CLI and point the notebook to your file.\n",
    "- Use `ExperimentController` from `plogic.controller` to compute characterization metrics programmatically.\n"
   ]
  }
 ],
 "metadata": {
  "kernelspec": {
   "display_name": "Python 3",
   "language": "python",
   "name": "python3"
  },
  "language_info": {
   "name": "python",
   "version": "3.10"
  }
 },
 "nbformat": 4,
 "nbformat_minor": 5
}
